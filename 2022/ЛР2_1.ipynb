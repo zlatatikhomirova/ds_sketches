{
  "nbformat": 4,
  "nbformat_minor": 0,
  "metadata": {
    "colab": {
      "provenance": []
    },
    "kernelspec": {
      "name": "python3",
      "display_name": "Python 3"
    },
    "language_info": {
      "name": "python"
    }
  },
  "cells": [
    {
      "cell_type": "markdown",
      "source": [
        "# Лабораторная работа 2.1. Основы программирования в python"
      ],
      "metadata": {
        "id": "2uIySr50m-Ns"
      }
    },
    {
      "cell_type": "markdown",
      "source": [
        "1. Напишите программный код, который запрашивает у пользователя два числа (числа не обязательно целые), записывает их в переменные x и y и выводит с помощью функции print() на экран сумму, разность, произведение, частное этих чисел, а также остаток от деления и целую часть.\n"
      ],
      "metadata": {
        "id": "EiehlvOJnWbd"
      }
    },
    {
      "cell_type": "code",
      "execution_count": null,
      "metadata": {
        "colab": {
          "base_uri": "https://localhost:8080/"
        },
        "id": "TYh4PBKLmQ6l",
        "outputId": "c781a819-e0c7-4554-cb92-9f001ed1f496"
      },
      "outputs": [
        {
          "output_type": "stream",
          "name": "stdout",
          "text": [
            "-5 5\n",
            "0.0\n",
            "-10.0\n",
            "-25.0\n",
            "-1.0\n",
            "0.0 -1.0\n"
          ]
        }
      ],
      "source": [
        "x, y = map(float, input().split())\n",
        "print(x+y)       # сумма\n",
        "print(x-y)       # разность\n",
        "print(x*y)       # произведение\n",
        "print(x/y)       # частное\n",
        "print(x%y, x//y) # остаток от деления и целая часть"
      ]
    },
    {
      "cell_type": "markdown",
      "source": [
        "2. Напишите программный код, который позволяет получить строку из двух первых и двух последних символов строки, введенной с клавиатуры."
      ],
      "metadata": {
        "id": "U-DZuTl4nwdp"
      }
    },
    {
      "cell_type": "code",
      "source": [
        "s = input()\n",
        "ans = s[:2] + s[-2:]\n",
        "print(ans)"
      ],
      "metadata": {
        "colab": {
          "base_uri": "https://localhost:8080/"
        },
        "id": "wYbFpHPCnw6Y",
        "outputId": "580ec31a-c4e0-42ee-a8d9-0675da7fddd0"
      },
      "execution_count": null,
      "outputs": [
        {
          "output_type": "stream",
          "name": "stdout",
          "text": [
            "Hello, world!\n",
            "Hed!\n"
          ]
        }
      ]
    },
    {
      "cell_type": "markdown",
      "source": [
        "3. Присвойте значение 5 переменной me. Далее напишите условные проверки (if, else и elif), чтобы вывести строку 'too low', если значение переменной me меньше 5, 'too high', если оно больше 5, и 'just right', если равно 5.\n"
      ],
      "metadata": {
        "id": "GqYvtm-CnxXw"
      }
    },
    {
      "cell_type": "code",
      "source": [
        "me = 5\n",
        "if me < 5:\n",
        "    print('too low')\n",
        "elif me > 5:\n",
        "    print('too high')\n",
        "else:                   # elif me == 5:\n",
        "    print('just right')"
      ],
      "metadata": {
        "colab": {
          "base_uri": "https://localhost:8080/"
        },
        "id": "AAPvW8etnx0I",
        "outputId": "7fa0eb91-30b5-4a79-c3a1-9f7e7af7da92"
      },
      "execution_count": null,
      "outputs": [
        {
          "output_type": "stream",
          "name": "stdout",
          "text": [
            "just right\n"
          ]
        }
      ]
    }
  ]
}
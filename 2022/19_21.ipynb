{
  "cells": [
    {
      "cell_type": "markdown",
      "id": "236af7d7-6dbc-48db-9955-ecf04b6984b3",
      "metadata": {
        "id": "236af7d7-6dbc-48db-9955-ecf04b6984b3"
      },
      "source": [
        "Задание 19 № 27416 Добавить в вариант\n",
        "Два игрока, Петя и Ваня, играют в следующую игру. Перед игроками лежат две кучи камней. Игроки ходят по очереди, первый ход делает Петя. За один ход игрок может добавить в одну из куч (по своему выбору) один камень или увеличить количество камней в куче в два раза. Например, пусть в одной куче 10 камней, а в другой 5 камней; такую позицию в игре будем обозначать (10, 5). Тогда за один ход можно получить любую из четырёх позиций: (11, 5), (20, 5), (10, 6), (10, 10). Для того чтобы делать ходы, у каждого игрока есть неограниченное количество камней.\n",
        "\n",
        "Игра завершается в тот момент, когда суммарное количество камней в кучах становится не менее 77. Победителем считается игрок, сделавший последний ход, т. е. первым получивший такую позицию, при которой в кучах будет 77 или больше камней.\n",
        "\n",
        "В начальный момент в первой куче было семь камней, во второй куче — S камней; 1 ≤ S ≤ 69.\n",
        "\n",
        "Будем говорить, что игрок имеет выигрышную стратегию, если он может выиграть при любых ходах противника. Описать стратегию игрока — значит, описать, какой ход он должен сделать в любой ситуации, которая ему может встретиться при различной игре противника. В описание выигрышной стратегии не следует включать ходы играющего по этой стратегии игрока, не являющиеся для него безусловно выигрышными, т. е. не являющиеся выигрышными независимо от игры противника."
      ]
    },
    {
      "cell_type": "code",
      "execution_count": null,
      "id": "f7772be8-9267-42dd-9271-d1120510bff3",
      "metadata": {
        "id": "f7772be8-9267-42dd-9271-d1120510bff3"
      },
      "outputs": [],
      "source": [
        "class State:\n",
        "    win_cond = lambda state: sum(state.pit) >= 77\n",
        "\n",
        "    def __init__(self, pit, step):\n",
        "        self.pit = pit\n",
        "        self.step = step\n",
        "        self.player = step % 2\n",
        "        self.finished = State.win_cond(self)\n",
        "\n",
        "    def next(self, operand):\n",
        "        if self.finished:\n",
        "            return self\n",
        "        return State(operand(self.pit), self.step + 1)\n",
        "\n",
        "    def __repr__(self):\n",
        "        return (f\"pit: {self.pit}\".ljust(10) +\n",
        "                f\"pl: {'Ваня' if self.player else 'Петя'}\".ljust(10) +\n",
        "                f\"lost: {self.finished}\")\n",
        "\n",
        "    def __hash__(self):\n",
        "        return hash((self.pit, self.player))\n",
        "\n",
        "class Game:\n",
        "    max_depth = 5\n",
        "    operands = (lambda pits: (pits[0] + 1, pits[1]),\n",
        "                lambda pits: (pits[0], pits[1] + 1),\n",
        "                lambda pits: (pits[0] * 2, pits[1]),\n",
        "                lambda pits: (pits[0], pits[1] * 2)\n",
        "               )\n",
        "\n",
        "    def __init__(self, S):\n",
        "        # [количество камней в куче, номер шага]\n",
        "        self.state = State(S, 0)\n",
        "        self.tree = {self.state: None}\n",
        "\n",
        "    @staticmethod\n",
        "    def step(state):\n",
        "        cands = {state.next(oper) for oper in Game.operands}\n",
        "        cands.discard(state) # если состояние уже выигрышное, то оно не меняется -> удалим\n",
        "\n",
        "        for cand in cands:\n",
        "            if cand.finished:\n",
        "                return {cand, }\n",
        "        else:\n",
        "            return cands\n",
        "\n",
        "    def start(self):\n",
        "        q = [self.state]\n",
        "        depth = 0\n",
        "        while (depth < Game.max_depth) and (q):\n",
        "            Q = []\n",
        "            for current in q:\n",
        "                cands = Game.step(current)\n",
        "                self.tree[current] = cands if cands else set()\n",
        "                for state in cands:\n",
        "                    if state:\n",
        "                        Q.append(state)\n",
        "            depth += 1\n",
        "            q = Q"
      ]
    },
    {
      "cell_type": "markdown",
      "id": "fb886e48-e74c-4807-954d-df44f2e53864",
      "metadata": {
        "id": "fb886e48-e74c-4807-954d-df44f2e53864"
      },
      "source": [
        "Известно, что Ваня выиграл своим первым ходом после неудачного первого хода Пети. Укажите минимальное значение S, когда такая ситуация возможна\n"
      ]
    },
    {
      "cell_type": "code",
      "execution_count": null,
      "id": "7a466f94-1b06-4933-96ef-1a745c093044",
      "metadata": {
        "id": "7a466f94-1b06-4933-96ef-1a745c093044",
        "outputId": "5d8d16dd-b252-4a40-e4ab-286b83a93b87"
      },
      "outputs": [
        {
          "name": "stdout",
          "output_type": "stream",
          "text": [
            "18\n",
            "19\n",
            "20\n",
            "21\n",
            "22\n",
            "23\n",
            "24\n",
            "25\n",
            "26\n",
            "27\n",
            "28\n",
            "29\n",
            "30\n",
            "31\n",
            "32\n",
            "32\n",
            "33\n",
            "33\n",
            "34\n",
            "34\n",
            "34\n"
          ]
        }
      ],
      "source": [
        "for S in range(1, 69):\n",
        "    game = Game((7, S))\n",
        "    game.start()\n",
        "    for first in game.tree[game.state]:\n",
        "        for second in game.tree[first]:\n",
        "            if second.finished:\n",
        "                print(S) # 18"
      ]
    },
    {
      "cell_type": "markdown",
      "id": "7c973c7f-c5e5-4391-b3ac-4581566a1868",
      "metadata": {
        "id": "7c973c7f-c5e5-4391-b3ac-4581566a1868"
      },
      "source": [
        "Найдите два таких значения S, при которых у Пети есть выигрышная стратегия, причём одновременно выполняются два условия:\n",
        "\n",
        "— Петя не может выиграть за один ход;\n",
        "\n",
        "— Петя может выиграть своим вторым ходом независимо от того, как будет ходить Ваня.\n",
        "\n",
        "Найденные значения запишите в ответе в порядке возрастания без разделительных знаков."
      ]
    },
    {
      "cell_type": "code",
      "execution_count": null,
      "id": "002ddbf8-1c70-4bde-85b0-384d27ac9b8e",
      "metadata": {
        "id": "002ddbf8-1c70-4bde-85b0-384d27ac9b8e",
        "outputId": "4605a89d-f08f-4d04-9126-e031081cc750"
      },
      "outputs": [
        {
          "name": "stdout",
          "output_type": "stream",
          "text": [
            "31\n",
            "34\n"
          ]
        }
      ],
      "source": [
        "for S in range(1, 69):\n",
        "    game = Game((7, S))\n",
        "    game.start()\n",
        "    for first in game.tree[game.state]:\n",
        "        if first.finished:\n",
        "            continue\n",
        "        i = 0\n",
        "        for second in game.tree[first]:\n",
        "            i -= 1\n",
        "            if second.finished:\n",
        "                break\n",
        "            for third in game.tree[second]:\n",
        "                if third.finished:\n",
        "                    i += 1\n",
        "        if i == 0:\n",
        "            print(S) # 31 34"
      ]
    },
    {
      "cell_type": "markdown",
      "id": "fd0a917b-89ac-4a01-a90f-f500dfade6af",
      "metadata": {
        "id": "fd0a917b-89ac-4a01-a90f-f500dfade6af"
      },
      "source": [
        "Найдите минимальное значение S, при котором одновременно выполняются два условия:\n",
        "\n",
        "— у Вани есть выигрышная стратегия, позволяющая ему выиграть первым или вторым ходом при любой игре Пети;\n",
        "\n",
        "— у Вани нет стратегии, которая позволит ему гарантированно выиграть первым ходом."
      ]
    },
    {
      "cell_type": "code",
      "execution_count": null,
      "id": "34464535-65b6-47ba-a01b-7dbe638e02e6",
      "metadata": {
        "id": "34464535-65b6-47ba-a01b-7dbe638e02e6",
        "outputId": "6a8c7ed7-8d33-4102-a0c1-4d56054bcb1d"
      },
      "outputs": [
        {
          "name": "stdout",
          "output_type": "stream",
          "text": [
            "30\n",
            "33\n"
          ]
        }
      ],
      "source": [
        "for S in range(1, 69):\n",
        "    game = Game((7, S))\n",
        "    game.start()\n",
        "    x = 0\n",
        "    for first in game.tree[game.state]:\n",
        "        x += 1\n",
        "        for second in game.tree[first]:\n",
        "            if second.finished and second is not first:\n",
        "                x -= 1\n",
        "            else:\n",
        "                y = 0\n",
        "                for third in game.tree[second]:\n",
        "                    y += 1\n",
        "                    for forth in game.tree[third]:\n",
        "                        if forth.finished and forth is not third:\n",
        "                            y -= 1\n",
        "                if y == 0:\n",
        "                    x -= 1\n",
        "    if x == 0:\n",
        "        print(S) # 30"
      ]
    },
    {
      "cell_type": "code",
      "execution_count": null,
      "id": "9eb8ef2b-b539-4405-9df8-cf8a8f84bcae",
      "metadata": {
        "id": "9eb8ef2b-b539-4405-9df8-cf8a8f84bcae"
      },
      "outputs": [],
      "source": []
    }
  ],
  "metadata": {
    "kernelspec": {
      "display_name": "Python 3 (ipykernel)",
      "language": "python",
      "name": "python3"
    },
    "language_info": {
      "codemirror_mode": {
        "name": "ipython",
        "version": 3
      },
      "file_extension": ".py",
      "mimetype": "text/x-python",
      "name": "python",
      "nbconvert_exporter": "python",
      "pygments_lexer": "ipython3",
      "version": "3.9.2"
    },
    "colab": {
      "provenance": []
    }
  },
  "nbformat": 4,
  "nbformat_minor": 5
}
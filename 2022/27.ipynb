{
  "cells": [
    {
      "cell_type": "markdown",
      "id": "67f4e24d-06c6-4b84-bfc5-7ea9fc0c2ce6",
      "metadata": {
        "id": "67f4e24d-06c6-4b84-bfc5-7ea9fc0c2ce6"
      },
      "source": [
        "Задание 27 № 27424 [Добавить в вариант]\n",
        "\n",
        "Имеется набор данных, состоящий из пар положительных целых чисел. Необходимо выбрать из каждой пары ровно одно число так, чтобы сумма всех выбранных чисел не делилась на 3 и при этом была максимально возможной. Гарантируется, что искомую сумму получить можно. Программа должна напечатать одно число — максимально возможную сумму, соответствующую условиям задачи.\n",
        "\n",
        "Входные данные.\n",
        "\n",
        "Файл A\n",
        "\n",
        "Файл B\n",
        "\n",
        "Даны два входных файла (файл A и файл B), каждый из которых содержит в первой строке количество пар N (1 ≤ N ≤ 100000). Каждая из следующих N строк содержит два натуральных числа, не превышающих 10 000.\n",
        "\n",
        "Пример организации исходных данных во входном файле:\n",
        "\n",
        "6\n",
        "\n",
        "1 3\n",
        "\n",
        "5 12\n",
        "\n",
        "6 9\n",
        "\n",
        "5 4\n",
        "\n",
        "3 3\n",
        "\n",
        "1 1\n",
        "\n",
        "Для указанных входных данных значением искомой суммы должно быть число 32.\n",
        "\n",
        "В ответе укажите два числа: сначала значение искомой суммы для файла А, затем для файла B.\n",
        "\n",
        "Предупреждение: для обработки файла B не следует использовать переборный алгоритм, вычисляющий сумму для всех возможных вариантов, поскольку написанная по такому алгоритму программа будет выполняться слишком долго."
      ]
    },
    {
      "cell_type": "code",
      "execution_count": null,
      "id": "40c8382b-f10e-4543-b63b-68075d1fbd07",
      "metadata": {
        "tags": [],
        "id": "40c8382b-f10e-4543-b63b-68075d1fbd07"
      },
      "outputs": [],
      "source": [
        "class Pair(int):\n",
        "    def __new__(cls, stroke):\n",
        "\n",
        "        a, b = sorted(map(int, stroke.split()), reverse=True)\n",
        "        choice = a\n",
        "        i = int.__new__(cls, choice)\n",
        "        i.a, i.b = a, b\n",
        "        i.delta = a - b\n",
        "        i.moda = a % 3\n",
        "        i.modb = b % 3\n",
        "        i.modd = i.delta % 3\n",
        "\n",
        "        return i\n",
        "\n",
        "    def __repr__(self):\n",
        "        return f\"({self.a} - {self.b}) = {self.delta}  :  ({self.moda} {self.modb}) --> {self.__int__()}\""
      ]
    },
    {
      "cell_type": "code",
      "execution_count": null,
      "id": "bffefa0a-db1e-47d1-a747-f9a23c6e691b",
      "metadata": {
        "id": "bffefa0a-db1e-47d1-a747-f9a23c6e691b"
      },
      "outputs": [],
      "source": [
        "def sol(path):\n",
        "    with open(path, \"r\") as f:\n",
        "        n = int(f.readline())\n",
        "        pairs = [Pair(stroke) for stroke in f.readlines()]\n",
        "\n",
        "    S = sum(pairs)\n",
        "    if (S % 3) == 0:\n",
        "        S -= min((p.delta for p in pairs if (p.modd != 0)))\n",
        "    return S"
      ]
    },
    {
      "cell_type": "code",
      "execution_count": null,
      "id": "8dcc6b38-3722-4cbb-b389-d5981bbcfdae",
      "metadata": {
        "id": "8dcc6b38-3722-4cbb-b389-d5981bbcfdae",
        "outputId": "9336e2fe-ab29-4047-decd-03a9fdc790ed"
      },
      "outputs": [
        {
          "data": {
            "text/plain": [
              "127127"
            ]
          },
          "execution_count": 190,
          "metadata": {},
          "output_type": "execute_result"
        }
      ],
      "source": [
        "sol(\"static/Задание 27 № 27424 A.txt\") # 127127"
      ]
    },
    {
      "cell_type": "code",
      "execution_count": null,
      "id": "f550d43f-e5d5-473b-aa4c-e867a03f0386",
      "metadata": {
        "id": "f550d43f-e5d5-473b-aa4c-e867a03f0386",
        "outputId": "f0fdf6f5-c60d-44ff-a02a-f4cda0d065bb"
      },
      "outputs": [
        {
          "data": {
            "text/plain": [
              "399762080"
            ]
          },
          "execution_count": 191,
          "metadata": {},
          "output_type": "execute_result"
        }
      ],
      "source": [
        "sol(\"static/Задание 27 № 27424 B.txt\") # 399762080"
      ]
    },
    {
      "cell_type": "code",
      "execution_count": null,
      "id": "e5b2409c-1ab6-4a30-8d3c-dabb2af7e06d",
      "metadata": {
        "id": "e5b2409c-1ab6-4a30-8d3c-dabb2af7e06d"
      },
      "outputs": [],
      "source": []
    }
  ],
  "metadata": {
    "kernelspec": {
      "display_name": "Python 3 (ipykernel)",
      "language": "python",
      "name": "python3"
    },
    "language_info": {
      "codemirror_mode": {
        "name": "ipython",
        "version": 3
      },
      "file_extension": ".py",
      "mimetype": "text/x-python",
      "name": "python",
      "nbconvert_exporter": "python",
      "pygments_lexer": "ipython3",
      "version": "3.9.7"
    },
    "colab": {
      "provenance": []
    }
  },
  "nbformat": 4,
  "nbformat_minor": 5
}